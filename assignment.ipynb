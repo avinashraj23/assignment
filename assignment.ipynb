{
 "cells": [
  {
   "cell_type": "markdown",
   "metadata": {},
   "source": [
    "# Converting pdf to txt file"
   ]
  },
  {
   "cell_type": "code",
   "execution_count": 30,
   "metadata": {},
   "outputs": [],
   "source": [
    "import textract\n",
    "\n",
    "text = textract.process(\n",
    "    'text.pdf',\n",
    "    method='tesseract',\n",
    ")\n",
    "file = open(\"text.txt\",'wb') \n",
    "file.write(text) \n",
    "#print(text)\n",
    "file.close()"
   ]
  },
  {
   "cell_type": "markdown",
   "metadata": {},
   "source": [
    "# Reading txt file and finding the ‘subject’ of the article"
   ]
  },
  {
   "cell_type": "code",
   "execution_count": 25,
   "metadata": {},
   "outputs": [
    {
     "name": "stdout",
     "output_type": "stream",
     "text": [
      "debugging\n"
     ]
    }
   ],
   "source": [
    "import os\n",
    "from nltk.tokenize import sent_tokenize, word_tokenize\n",
    "import nltk\n",
    "from nltk import FreqDist\n",
    "\n",
    "path= r'/Users/avinashraj/Desktop/assignment/text.txt'\n",
    "#print(path)\n",
    "\n",
    "file = open(path, encoding=\"ISO-8859-1\")\n",
    "fileread = file.read()\n",
    "sent = word_tokenize(fileread)\n",
    "fdist1 = FreqDist(sent)\n",
    "fd=fdist1.most_common(10)\n",
    "        #print(fd)\n",
    "flat_list = [item for sublist in fd for item in sublist]\n",
    "        \n",
    "        #print(flat_list)\n",
    "ls=tuple(map(str, flat_list))\n",
    "        #print(ls)\n",
    "        #print (type(ls))\n",
    "print (max(ls,key=len))\n",
    "file.close()"
   ]
  }
 ],
 "metadata": {
  "kernelspec": {
   "display_name": "Python 3",
   "language": "python",
   "name": "python3"
  },
  "language_info": {
   "codemirror_mode": {
    "name": "ipython",
    "version": 3
   },
   "file_extension": ".py",
   "mimetype": "text/x-python",
   "name": "python",
   "nbconvert_exporter": "python",
   "pygments_lexer": "ipython3",
   "version": "3.7.0"
  }
 },
 "nbformat": 4,
 "nbformat_minor": 2
}
